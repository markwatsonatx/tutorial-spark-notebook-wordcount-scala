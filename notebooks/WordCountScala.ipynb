{
 "cells": [
  {
   "cell_type": "markdown",
   "metadata": {},
   "source": [
    "# WordCount Example\n",
    "\n",
    "In this example we'll be using the Back to the Future transcript which is formatted as `Character: Line`. For example:\n",
    "\n",
    "`Doc: Marty, is that you?`\n",
    "\n",
    "In the first part we'll count the number of words in the transcript (we'll filter out the character names) and sort them by most frequently used to least frequently used.\n",
    "\n",
    "In the second part we'll filter out common words, known as stop words, by importing a Python package using pip. \n",
    "\n",
    "Finally, we'll find the most common words used by each character."
   ]
  },
  {
   "cell_type": "markdown",
   "metadata": {},
   "source": [
    "## Part 1: Simple Word Count"
   ]
  },
  {
   "cell_type": "code",
   "execution_count": 1,
   "metadata": {
    "collapsed": true
   },
   "outputs": [],
   "source": [
    "import scala.collection.mutable.ArrayBuffer\n",
    "import scala.util.matching.Regex"
   ]
  },
  {
   "cell_type": "code",
   "execution_count": 2,
   "metadata": {
    "collapsed": false
   },
   "outputs": [],
   "source": [
    "// Load the transcript using SparkContext.textFile\n",
    "// This will return an RDD of strings - one for each line in the transcript \n",
    "val lines = sc.textFile(\"file:///usr/data/backtothefuture_transcript.txt\")"
   ]
  },
  {
   "cell_type": "code",
   "execution_count": null,
   "metadata": {
    "collapsed": false
   },
   "outputs": [],
   "source": [
    "// This function will be called for each line in the transcript\n",
    "// We will strip out the character names (i.e. Marty:)\n",
    "// We'll also strip out special characters in each string\n",
    "// Finally, we'll return an array of words\n",
    "def parseLine(line:String) : Array[String] = {\n",
    "    var l = line.replaceAll(\"^[^:]+:\", \"\");\n",
    "    l = l.replaceAll(\"[^a-zA-Z ']\", \"\");\n",
    "    return l.split(\"\\\\s+\").filterNot(word => word == \"\")\n",
    "}"
   ]
  },
  {
   "cell_type": "code",
   "execution_count": null,
   "metadata": {
    "collapsed": false
   },
   "outputs": [],
   "source": [
    "// flatMap can map each input to 0 or more outputs\n",
    "// In this case each line of text will be mapped to 0 or more words\n",
    "val words = lines.flatMap(line => parseLine(line))"
   ]
  },
  {
   "cell_type": "code",
   "execution_count": null,
   "metadata": {
    "collapsed": false
   },
   "outputs": [],
   "source": [
    "// Map each RDD to (key, 1) where key is the word\n",
    "var wordCounts = words.map(x => (x, 1))"
   ]
  },
  {
   "cell_type": "code",
   "execution_count": null,
   "metadata": {
    "collapsed": false
   },
   "outputs": [],
   "source": [
    "// reduceByKey takes 2 RDDs with the same key, combines them into a single RDD,\n",
    "// and sets the value to the output of the lambda function\n",
    "// In this case that value is x + y giving us the total count for each word (the key)\n",
    "wordCounts = wordCounts.reduceByKey((x, y) => x + y)"
   ]
  },
  {
   "cell_type": "code",
   "execution_count": null,
   "metadata": {
    "collapsed": false
   },
   "outputs": [],
   "source": [
    "// Here we reverse the RDDs, so instead of (word, count)\n",
    "// They will be stored as (count, word)\n",
    "// This will allow us to sort by the key (count)\n",
    "val wordCountsReversed = wordCounts.map(x => (x._2, x._1))"
   ]
  },
  {
   "cell_type": "code",
   "execution_count": null,
   "metadata": {
    "collapsed": false
   },
   "outputs": [],
   "source": [
    "// Sort by key (which is now count) descending\n",
    "val wordCountsSorted = wordCountsReversed.sortByKey(false)"
   ]
  },
  {
   "cell_type": "code",
   "execution_count": null,
   "metadata": {
    "collapsed": false
   },
   "outputs": [],
   "source": [
    "// Find the top 10 words\n",
    "wordCountsSorted.take(10)"
   ]
  },
  {
   "cell_type": "code",
   "execution_count": null,
   "metadata": {
    "collapsed": true
   },
   "outputs": [],
   "source": []
  }
 ],
 "metadata": {
  "kernelspec": {
   "display_name": "Scala 2.10",
   "language": "scala",
   "name": "apache_toree_scala"
  },
  "language_info": {
   "name": "scala",
   "version": "2.10.4"
  }
 },
 "nbformat": 4,
 "nbformat_minor": 0
}
