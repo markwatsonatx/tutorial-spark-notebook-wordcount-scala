{
 "cells": [
  {
   "cell_type": "markdown",
   "metadata": {},
   "source": [
    "# WordCount Example\n",
    "\n",
    "In this example we'll be using the Back to the Future transcript which is formatted as `Character: Line`. For example:\n",
    "\n",
    "`Doc: Marty, is that you?`\n",
    "\n",
    "In the first part we'll count the number of words in the transcript (we'll filter out the character names) and sort them by most frequently used to least frequently used.\n",
    "\n",
    "In the second part we'll filter out common words, known as stop words, by importing a Python package using pip. \n",
    "\n",
    "Finally, we'll find the most common words used by each character."
   ]
  },
  {
   "cell_type": "markdown",
   "metadata": {},
   "source": [
    "## Part 1: Simple Word Count"
   ]
  },
  {
   "cell_type": "code",
   "execution_count": 1,
   "metadata": {
    "collapsed": true
   },
   "outputs": [],
   "source": [
    "import scala.collection.mutable.ArrayBuffer\n",
    "import scala.util.matching.Regex"
   ]
  },
  {
   "cell_type": "code",
   "execution_count": 2,
   "metadata": {
    "collapsed": false
   },
   "outputs": [],
   "source": [
    "// Load the transcript using SparkContext.textFile\n",
    "// This will return an RDD of strings - one for each line in the transcript \n",
    "val lines = sc.textFile(\"file:///usr/data/backtothefuture_transcript.txt\")"
   ]
  },
  {
   "cell_type": "code",
   "execution_count": 3,
   "metadata": {
    "collapsed": false
   },
   "outputs": [],
   "source": [
    "// This function will be called for each line in the transcript\n",
    "// We will strip out the character names (i.e. Marty:)\n",
    "// We'll also strip out special characters in each string\n",
    "// Finally, we'll return an array of words\n",
    "def parseLine(line:String) : Array[String] = {\n",
    "    var l = line.replaceAll(\"^[^:]+:\", \"\");\n",
    "    l = l.replaceAll(\"[^a-zA-Z ']\", \"\");\n",
    "    return l.toLowerCase.split(\"\\\\s+\").filterNot(word => word == \"\")\n",
    "}"
   ]
  },
  {
   "cell_type": "code",
   "execution_count": 4,
   "metadata": {
    "collapsed": false
   },
   "outputs": [],
   "source": [
    "// flatMap can map each input to 0 or more outputs\n",
    "// In this case each line of text will be mapped to 0 or more words\n",
    "val words = lines.flatMap(line => parseLine(line))"
   ]
  },
  {
   "cell_type": "code",
   "execution_count": 5,
   "metadata": {
    "collapsed": false
   },
   "outputs": [],
   "source": [
    "// Map each RDD to (key, 1) where key is the word\n",
    "var wordCounts = words.map(x => (x, 1))"
   ]
  },
  {
   "cell_type": "code",
   "execution_count": 6,
   "metadata": {
    "collapsed": false
   },
   "outputs": [],
   "source": [
    "// reduceByKey takes 2 RDDs with the same key, combines them into a single RDD,\n",
    "// and sets the value to the output of the lambda function\n",
    "// In this case that value is x + y giving us the total count for each word (the key)\n",
    "wordCounts = wordCounts.reduceByKey((x, y) => x + y)"
   ]
  },
  {
   "cell_type": "code",
   "execution_count": 7,
   "metadata": {
    "collapsed": false
   },
   "outputs": [],
   "source": [
    "// Here we reverse the RDDs, so instead of (word, count)\n",
    "// They will be stored as (count, word)\n",
    "// This will allow us to sort by the key (count)\n",
    "val wordCountsReversed = wordCounts.map(x => (x._2, x._1))"
   ]
  },
  {
   "cell_type": "code",
   "execution_count": 8,
   "metadata": {
    "collapsed": false
   },
   "outputs": [],
   "source": [
    "// Sort by key (which is now count) descending\n",
    "val wordCountsSorted = wordCountsReversed.sortByKey(false)"
   ]
  },
  {
   "cell_type": "code",
   "execution_count": 9,
   "metadata": {
    "collapsed": false
   },
   "outputs": [
    {
     "data": {
      "text/plain": [
       "Array((382,you), (278,the), (242,i), (179,a), (166,to), (120,it), (116,that), (107,of), (100,this), (100,in))"
      ]
     },
     "execution_count": 9,
     "metadata": {},
     "output_type": "execute_result"
    }
   ],
   "source": [
    "// Find the top 10 words\n",
    "wordCountsSorted.take(10)"
   ]
  },
  {
   "cell_type": "markdown",
   "metadata": {
    "collapsed": true
   },
   "source": [
    "## Part 2: Filter Out Stop Words"
   ]
  },
  {
   "cell_type": "code",
   "execution_count": 18,
   "metadata": {
    "collapsed": false
   },
   "outputs": [],
   "source": [
    "import scala.io.Source\n",
    "val stopWordsRdd = sc.textFile(\"file:///usr/data/stopwords_en.txt\")\n",
    "val stopWordsArray = stopWordsRdd.toLocalIterator.toArray"
   ]
  },
  {
   "cell_type": "code",
   "execution_count": 19,
   "metadata": {
    "collapsed": false
   },
   "outputs": [],
   "source": [
    "def parseLine2(line:String) : Array[String] = {\n",
    "    var l = line.replaceAll(\"^[^:]+:\", \"\");\n",
    "    l = l.replaceAll(\"[^a-zA-Z ']\", \"\");\n",
    "    val lineWords = l.toLowerCase.split(\"\\\\s+\").filterNot(word => word == \"\")\n",
    "    return lineWords.filterNot(word => stopWordsArray.contains(word))\n",
    "}"
   ]
  },
  {
   "cell_type": "code",
   "execution_count": 20,
   "metadata": {
    "collapsed": false
   },
   "outputs": [],
   "source": [
    "val words = lines.flatMap(line => parseLine2(line))"
   ]
  },
  {
   "cell_type": "code",
   "execution_count": 21,
   "metadata": {
    "collapsed": false
   },
   "outputs": [],
   "source": [
    "val wordCounts = words.map(x => (x, 1)).reduceByKey((x, y) => x + y)"
   ]
  },
  {
   "cell_type": "code",
   "execution_count": 22,
   "metadata": {
    "collapsed": true
   },
   "outputs": [],
   "source": [
    "val wordCountsSorted = wordCounts.map(x => (x._2, x._1)).sortByKey(false)"
   ]
  },
  {
   "cell_type": "code",
   "execution_count": 23,
   "metadata": {
    "collapsed": false
   },
   "outputs": [
    {
     "data": {
      "text/plain": [
       "Array((60,marty), (58,doc), (55,gonna), (46,hey), (46,yeah), (42,time), (42,uh), (41,george), (37,good), (35,mcfly))"
      ]
     },
     "execution_count": 23,
     "metadata": {},
     "output_type": "execute_result"
    }
   ],
   "source": [
    "wordCountsSorted.take(10)"
   ]
  },
  {
   "cell_type": "markdown",
   "metadata": {},
   "source": [
    "## Part 3: Word Counts by Character"
   ]
  },
  {
   "cell_type": "code",
   "execution_count": 24,
   "metadata": {
    "collapsed": false
   },
   "outputs": [],
   "source": [
    "val contents = sc.wholeTextFiles(\"file:///usr/data/backtothefuture_transcript.txt\")"
   ]
  },
  {
   "cell_type": "code",
   "execution_count": 118,
   "metadata": {
    "collapsed": false
   },
   "outputs": [],
   "source": [
    "def parseContents(contents:String): Array[(String, String)] = {\n",
    "    val strs = contents.toLowerCase.split(\"(?m)(?=^[a-z^:]+:)\")\n",
    "    var key = \"\"\n",
    "    var tuples = ArrayBuffer.empty[(String, String)]\n",
    "    for (str <- strs) {\n",
    "        var line = str\n",
    "        val pattern = \"(^[a-z^:]+:)(.+)\".r\n",
    "        val matched = pattern.findFirstMatchIn(str)\n",
    "        matched match {\n",
    "          case Some(m) =>\n",
    "            key = m.group(1)\n",
    "            key = key.substring(0,key.length-1)\n",
    "            line = m.group(2)\n",
    "          case _ =>\n",
    "            // no match\n",
    "        }\n",
    "        if (key != \"\") {\n",
    "            var words = parseLine2(str)\n",
    "            for (word <- words) {\n",
    "                tuples.append((key, word))\n",
    "            }\n",
    "        }\n",
    "    }\n",
    "    return tuples.toArray\n",
    "}"
   ]
  },
  {
   "cell_type": "code",
   "execution_count": 119,
   "metadata": {
    "collapsed": false
   },
   "outputs": [
    {
     "data": {
      "text/plain": [
       "3371"
      ]
     },
     "execution_count": 119,
     "metadata": {},
     "output_type": "execute_result"
    }
   ],
   "source": [
    "val characterWordTuples = parseContents(contents.values.take(1)(0))\n",
    "characterWordTuples.length"
   ]
  },
  {
   "cell_type": "code",
   "execution_count": 120,
   "metadata": {
    "collapsed": true
   },
   "outputs": [],
   "source": [
    "val characterWords = sc.parallelize(characterWordTuples)"
   ]
  },
  {
   "cell_type": "code",
   "execution_count": 121,
   "metadata": {
    "collapsed": false
   },
   "outputs": [
    {
     "data": {
      "text/plain": [
       "Array((radio,october), (radio,inventory), (radio,time), (radio,statler), (radio,toyota), (radio,makingthe), (radio,deals), (radio,year), (radio,model), (radio,toyotas))"
      ]
     },
     "execution_count": 121,
     "metadata": {},
     "output_type": "execute_result"
    }
   ],
   "source": [
    "// Let's take a look at a few of them\n",
    "characterWords.take(10)"
   ]
  },
  {
   "cell_type": "code",
   "execution_count": 124,
   "metadata": {
    "collapsed": false
   },
   "outputs": [],
   "source": [
    "var characterWordCounts = characterWords.map(x => (x, 1))"
   ]
  },
  {
   "cell_type": "code",
   "execution_count": 126,
   "metadata": {
    "collapsed": false
   },
   "outputs": [],
   "source": [
    "characterWordCounts = characterWordCounts.reduceByKey((x, y) => x + y)"
   ]
  },
  {
   "cell_type": "code",
   "execution_count": 127,
   "metadata": {
    "collapsed": false
   },
   "outputs": [
    {
     "data": {
      "text/plain": [
       "Array(((marty,job),1), ((jennifer,world),1), ((marty,lovers),1), ((marty,hell),3), ((doc,kind),1), ((skinhead,gonna),1), ((lou,pall),1), ((marty,night),4), ((doc,sucker's),1), ((goldie,idea),1))"
      ]
     },
     "execution_count": 127,
     "metadata": {},
     "output_type": "execute_result"
    }
   ],
   "source": [
    "characterWordCounts.take(10)"
   ]
  },
  {
   "cell_type": "code",
   "execution_count": 128,
   "metadata": {
    "collapsed": true
   },
   "outputs": [],
   "source": [
    "val characterWordCountsReversed = characterWordCounts.map(x => (x._2, x._1))"
   ]
  },
  {
   "cell_type": "code",
   "execution_count": 129,
   "metadata": {
    "collapsed": true
   },
   "outputs": [],
   "source": [
    "val characterWordCountsSorted = characterWordCountsReversed.sortByKey(false)"
   ]
  },
  {
   "cell_type": "code",
   "execution_count": 130,
   "metadata": {
    "collapsed": false
   },
   "outputs": [
    {
     "data": {
      "text/plain": [
       "Array((57,(marty,doc)), (29,(marty,uh)), (27,(marty,yeah)), (25,(marty,george)), (20,(doc,marty)), (19,(biff,mcfly)), (17,(marty,alright)), (17,(marty,hey)), (15,(george,biff)), (15,(marty,wait)))"
      ]
     },
     "execution_count": 130,
     "metadata": {},
     "output_type": "execute_result"
    }
   ],
   "source": [
    "characterWordCountsSorted.take(10)"
   ]
  },
  {
   "cell_type": "code",
   "execution_count": 135,
   "metadata": {
    "collapsed": true
   },
   "outputs": [],
   "source": [
    "var characterWordCounts2 = characterWordCountsSorted.map(x => (x._2._1, (x._2._2,x._1)))"
   ]
  },
  {
   "cell_type": "code",
   "execution_count": 136,
   "metadata": {
    "collapsed": false
   },
   "outputs": [
    {
     "data": {
      "text/plain": [
       "Array((marty,(doc,57)), (marty,(uh,29)), (marty,(yeah,27)), (marty,(george,25)), (doc,(marty,20)), (biff,(mcfly,19)), (marty,(alright,17)), (marty,(hey,17)), (george,(biff,15)), (marty,(wait,15)))"
      ]
     },
     "execution_count": 136,
     "metadata": {},
     "output_type": "execute_result"
    }
   ],
   "source": [
    "// Let's see what it looks like\n",
    "characterWordCounts2.take(10)"
   ]
  },
  {
   "cell_type": "code",
   "execution_count": 138,
   "metadata": {
    "collapsed": false
   },
   "outputs": [],
   "source": [
    "characterWordCounts2 = characterWordCounts2.reduceByKey((x, y) => if (x._2 > y._2) x else y)"
   ]
  },
  {
   "cell_type": "code",
   "execution_count": 139,
   "metadata": {
    "collapsed": true
   },
   "outputs": [],
   "source": [
    "val characterWordCounts2Reversed = characterWordCounts2.map(x => (x._2._2, (x._1,x._2._1)))"
   ]
  },
  {
   "cell_type": "code",
   "execution_count": 140,
   "metadata": {
    "collapsed": true
   },
   "outputs": [],
   "source": [
    "val characterWordCounts2Sorted = characterWordCounts2Reversed.sortByKey(false)"
   ]
  },
  {
   "cell_type": "code",
   "execution_count": 141,
   "metadata": {
    "collapsed": false
   },
   "outputs": [
    {
     "data": {
      "text/plain": [
       "Array((57,(marty,doc)), (20,(doc,marty)), (19,(biff,mcfly)), (15,(george,biff)), (13,(loraine,marty)), (6,(woman,clock)), (6,(strickland,mcfly)), (5,(goldie,mayor)), (5,(jennifer,marty)), (4,(stella,marty)))"
      ]
     },
     "execution_count": 141,
     "metadata": {},
     "output_type": "execute_result"
    }
   ],
   "source": [
    "// Finally! Here are the top words for the 10 characters with the most lines\n",
    "characterWordCounts2Sorted.take(10)"
   ]
  },
  {
   "cell_type": "code",
   "execution_count": null,
   "metadata": {
    "collapsed": true
   },
   "outputs": [],
   "source": []
  }
 ],
 "metadata": {
  "kernelspec": {
   "display_name": "Scala 2.10 (Spark 1.6.1)",
   "language": "scala",
   "name": "apache_toree_scala"
  },
  "language_info": {
   "name": "scala",
   "version": "2.10.4"
  }
 },
 "nbformat": 4,
 "nbformat_minor": 0
}
